{
 "cells": [
  {
   "cell_type": "code",
   "execution_count": 1,
   "metadata": {
    "collapsed": false
   },
   "outputs": [
    {
     "name": "stderr",
     "output_type": "stream",
     "text": [
      "C:\\Users\\santosh\\Anaconda2\\lib\\site-packages\\sklearn\\cross_validation.py:44: DeprecationWarning: This module was deprecated in version 0.18 in favor of the model_selection module into which all the refactored classes and functions are moved. Also note that the interface of the new CV iterators are different from that of this module. This module will be removed in 0.20.\n",
      "  \"This module will be removed in 0.20.\", DeprecationWarning)\n",
      "C:\\Users\\santosh\\Anaconda2\\lib\\site-packages\\sklearn\\grid_search.py:43: DeprecationWarning: This module was deprecated in version 0.18 in favor of the model_selection module into which all the refactored classes and functions are moved. This module will be removed in 0.20.\n",
      "  DeprecationWarning)\n"
     ]
    }
   ],
   "source": [
    "import numpy as np\n",
    "import pandas as pd\n",
    "import sklearn\n",
    "import sklearn.linear_model as lm\n",
    "import sklearn.model_selection as cv\n",
    "import sklearn.grid_search as gs\n",
    "import matplotlib.pyplot as plt\n",
    "%matplotlib inline"
   ]
  },
  {
   "cell_type": "code",
   "execution_count": 4,
   "metadata": {
    "collapsed": true
   },
   "outputs": [],
   "source": [
    "PMEMO = pd.read_csv('PMEMO_XY.csv',header=None)\n",
    "# musicId, Valence, Arousal, 6373 features for each row"
   ]
  },
  {
   "cell_type": "code",
   "execution_count": 6,
   "metadata": {
    "collapsed": false
   },
   "outputs": [
    {
     "data": {
      "text/html": [
       "<div>\n",
       "<table border=\"1\" class=\"dataframe\">\n",
       "  <thead>\n",
       "    <tr style=\"text-align: right;\">\n",
       "      <th></th>\n",
       "      <th>0</th>\n",
       "      <th>1</th>\n",
       "      <th>2</th>\n",
       "      <th>3</th>\n",
       "      <th>4</th>\n",
       "      <th>5</th>\n",
       "      <th>6</th>\n",
       "      <th>7</th>\n",
       "      <th>8</th>\n",
       "      <th>9</th>\n",
       "      <th>...</th>\n",
       "      <th>6366</th>\n",
       "      <th>6367</th>\n",
       "      <th>6368</th>\n",
       "      <th>6369</th>\n",
       "      <th>6370</th>\n",
       "      <th>6371</th>\n",
       "      <th>6372</th>\n",
       "      <th>6373</th>\n",
       "      <th>6374</th>\n",
       "      <th>6375</th>\n",
       "    </tr>\n",
       "  </thead>\n",
       "  <tbody>\n",
       "    <tr>\n",
       "      <th>0</th>\n",
       "      <td>1</td>\n",
       "      <td>0.5750</td>\n",
       "      <td>0.4000</td>\n",
       "      <td>7.3182</td>\n",
       "      <td>0.71643</td>\n",
       "      <td>0.0</td>\n",
       "      <td>2.2451</td>\n",
       "      <td>3.1451</td>\n",
       "      <td>3.9567</td>\n",
       "      <td>0.89993</td>\n",
       "      <td>...</td>\n",
       "      <td>10.6940</td>\n",
       "      <td>0.55212</td>\n",
       "      <td>2.8848</td>\n",
       "      <td>2.8869</td>\n",
       "      <td>-1339.10</td>\n",
       "      <td>0.55493</td>\n",
       "      <td>113.550</td>\n",
       "      <td>57.380</td>\n",
       "      <td>111.610</td>\n",
       "      <td>59.359</td>\n",
       "    </tr>\n",
       "    <tr>\n",
       "      <th>1</th>\n",
       "      <td>4</td>\n",
       "      <td>0.2875</td>\n",
       "      <td>0.2625</td>\n",
       "      <td>6.5581</td>\n",
       "      <td>0.70340</td>\n",
       "      <td>0.0</td>\n",
       "      <td>1.6069</td>\n",
       "      <td>2.1164</td>\n",
       "      <td>2.9175</td>\n",
       "      <td>0.50954</td>\n",
       "      <td>...</td>\n",
       "      <td>8.2732</td>\n",
       "      <td>0.53585</td>\n",
       "      <td>2.6598</td>\n",
       "      <td>2.6608</td>\n",
       "      <td>-2561.70</td>\n",
       "      <td>0.66566</td>\n",
       "      <td>104.490</td>\n",
       "      <td>63.523</td>\n",
       "      <td>106.180</td>\n",
       "      <td>54.717</td>\n",
       "    </tr>\n",
       "    <tr>\n",
       "      <th>2</th>\n",
       "      <td>5</td>\n",
       "      <td>0.2000</td>\n",
       "      <td>0.1500</td>\n",
       "      <td>8.1525</td>\n",
       "      <td>0.36803</td>\n",
       "      <td>0.0</td>\n",
       "      <td>1.4046</td>\n",
       "      <td>1.9696</td>\n",
       "      <td>2.6663</td>\n",
       "      <td>0.56502</td>\n",
       "      <td>...</td>\n",
       "      <td>9.7055</td>\n",
       "      <td>0.59832</td>\n",
       "      <td>2.4227</td>\n",
       "      <td>2.4218</td>\n",
       "      <td>2630.40</td>\n",
       "      <td>0.55019</td>\n",
       "      <td>105.540</td>\n",
       "      <td>53.733</td>\n",
       "      <td>105.520</td>\n",
       "      <td>54.685</td>\n",
       "    </tr>\n",
       "    <tr>\n",
       "      <th>3</th>\n",
       "      <td>6</td>\n",
       "      <td>0.3500</td>\n",
       "      <td>0.5125</td>\n",
       "      <td>8.5271</td>\n",
       "      <td>0.28173</td>\n",
       "      <td>0.0</td>\n",
       "      <td>2.1068</td>\n",
       "      <td>3.3459</td>\n",
       "      <td>4.2509</td>\n",
       "      <td>1.23910</td>\n",
       "      <td>...</td>\n",
       "      <td>7.6898</td>\n",
       "      <td>0.57536</td>\n",
       "      <td>2.2243</td>\n",
       "      <td>2.2241</td>\n",
       "      <td>15485.00</td>\n",
       "      <td>0.58016</td>\n",
       "      <td>98.761</td>\n",
       "      <td>49.213</td>\n",
       "      <td>101.240</td>\n",
       "      <td>49.370</td>\n",
       "    </tr>\n",
       "    <tr>\n",
       "      <th>4</th>\n",
       "      <td>7</td>\n",
       "      <td>0.7250</td>\n",
       "      <td>0.7000</td>\n",
       "      <td>7.7570</td>\n",
       "      <td>0.95892</td>\n",
       "      <td>0.0</td>\n",
       "      <td>3.6838</td>\n",
       "      <td>4.5810</td>\n",
       "      <td>5.2974</td>\n",
       "      <td>0.89723</td>\n",
       "      <td>...</td>\n",
       "      <td>8.7104</td>\n",
       "      <td>0.56057</td>\n",
       "      <td>2.2192</td>\n",
       "      <td>2.2274</td>\n",
       "      <td>-271.02</td>\n",
       "      <td>0.53684</td>\n",
       "      <td>96.056</td>\n",
       "      <td>51.727</td>\n",
       "      <td>95.413</td>\n",
       "      <td>53.107</td>\n",
       "    </tr>\n",
       "  </tbody>\n",
       "</table>\n",
       "<p>5 rows × 6376 columns</p>\n",
       "</div>"
      ],
      "text/plain": [
       "   0       1       2       3        4     5       6       7       8     \\\n",
       "0     1  0.5750  0.4000  7.3182  0.71643   0.0  2.2451  3.1451  3.9567   \n",
       "1     4  0.2875  0.2625  6.5581  0.70340   0.0  1.6069  2.1164  2.9175   \n",
       "2     5  0.2000  0.1500  8.1525  0.36803   0.0  1.4046  1.9696  2.6663   \n",
       "3     6  0.3500  0.5125  8.5271  0.28173   0.0  2.1068  3.3459  4.2509   \n",
       "4     7  0.7250  0.7000  7.7570  0.95892   0.0  3.6838  4.5810  5.2974   \n",
       "\n",
       "      9      ...       6366     6367    6368    6369      6370     6371  \\\n",
       "0  0.89993   ...    10.6940  0.55212  2.8848  2.8869  -1339.10  0.55493   \n",
       "1  0.50954   ...     8.2732  0.53585  2.6598  2.6608  -2561.70  0.66566   \n",
       "2  0.56502   ...     9.7055  0.59832  2.4227  2.4218   2630.40  0.55019   \n",
       "3  1.23910   ...     7.6898  0.57536  2.2243  2.2241  15485.00  0.58016   \n",
       "4  0.89723   ...     8.7104  0.56057  2.2192  2.2274   -271.02  0.53684   \n",
       "\n",
       "      6372    6373     6374    6375  \n",
       "0  113.550  57.380  111.610  59.359  \n",
       "1  104.490  63.523  106.180  54.717  \n",
       "2  105.540  53.733  105.520  54.685  \n",
       "3   98.761  49.213  101.240  49.370  \n",
       "4   96.056  51.727   95.413  53.107  \n",
       "\n",
       "[5 rows x 6376 columns]"
      ]
     },
     "execution_count": 6,
     "metadata": {},
     "output_type": "execute_result"
    }
   ],
   "source": [
    "PMEMO.head()"
   ]
  },
  {
   "cell_type": "code",
   "execution_count": 7,
   "metadata": {
    "collapsed": true
   },
   "outputs": [],
   "source": [
    "PMEMO = PMEMO.as_matrix()"
   ]
  },
  {
   "cell_type": "code",
   "execution_count": 8,
   "metadata": {
    "collapsed": false
   },
   "outputs": [
    {
     "data": {
      "text/plain": [
       "(761L, 6376L)"
      ]
     },
     "execution_count": 8,
     "metadata": {},
     "output_type": "execute_result"
    }
   ],
   "source": [
    "PMEMO.shape"
   ]
  },
  {
   "cell_type": "code",
   "execution_count": 11,
   "metadata": {
    "collapsed": false
   },
   "outputs": [
    {
     "data": {
      "text/plain": [
       "(761L, 6373L)"
      ]
     },
     "execution_count": 11,
     "metadata": {},
     "output_type": "execute_result"
    }
   ],
   "source": [
    "X = PMEMO[:,3:]\n",
    "X.shape"
   ]
  },
  {
   "cell_type": "code",
   "execution_count": 12,
   "metadata": {
    "collapsed": true
   },
   "outputs": [],
   "source": [
    "YV = PMEMO[:,1]\n",
    "YA = PMEMO[:,2]"
   ]
  },
  {
   "cell_type": "code",
   "execution_count": 13,
   "metadata": {
    "collapsed": false
   },
   "outputs": [
    {
     "data": {
      "text/plain": [
       "(761L,)"
      ]
     },
     "execution_count": 13,
     "metadata": {},
     "output_type": "execute_result"
    }
   ],
   "source": [
    "YV.shape"
   ]
  },
  {
   "cell_type": "code",
   "execution_count": 15,
   "metadata": {
    "collapsed": true
   },
   "outputs": [],
   "source": [
    "# We split X and y into train and test datasets.\n",
    "(X_train, X_test, YA_train, YA_test) = cv.train_test_split(X, YA, test_size=.25)"
   ]
  },
  {
   "cell_type": "code",
   "execution_count": 16,
   "metadata": {
    "collapsed": true
   },
   "outputs": [],
   "source": [
    "from sklearn.svm import SVR\n",
    "svr_rbf = SVR(kernel='rbf', C=1e3, gamma=0.1)\n",
    "YA_pred = svr_rbf.fit(X_train, YA_train).predict(X_test)"
   ]
  },
  {
   "cell_type": "code",
   "execution_count": 17,
   "metadata": {
    "collapsed": false
   },
   "outputs": [
    {
     "data": {
      "text/plain": [
       "(191L,)"
      ]
     },
     "execution_count": 17,
     "metadata": {},
     "output_type": "execute_result"
    }
   ],
   "source": [
    "YA_pred.shape"
   ]
  },
  {
   "cell_type": "code",
   "execution_count": 18,
   "metadata": {
    "collapsed": false
   },
   "outputs": [
    {
     "data": {
      "text/plain": [
       "(191L,)"
      ]
     },
     "execution_count": 18,
     "metadata": {},
     "output_type": "execute_result"
    }
   ],
   "source": [
    "YA_test.shape"
   ]
  },
  {
   "cell_type": "code",
   "execution_count": 23,
   "metadata": {
    "collapsed": false
   },
   "outputs": [
    {
     "data": {
      "text/plain": [
       "0.030445278643253679"
      ]
     },
     "execution_count": 23,
     "metadata": {},
     "output_type": "execute_result"
    }
   ],
   "source": [
    "from sklearn.metrics import mean_squared_error, r2_score\n",
    "mean_squared_error(YA_test, YA_pred)"
   ]
  },
  {
   "cell_type": "code",
   "execution_count": 20,
   "metadata": {
    "collapsed": false
   },
   "outputs": [
    {
     "data": {
      "text/plain": [
       "[<matplotlib.lines.Line2D at 0x123414e0>]"
      ]
     },
     "execution_count": 20,
     "metadata": {},
     "output_type": "execute_result"
    },
    {
     "data": {
      "image/png": "[encoded data removed]",
      "text/plain": [
       "<matplotlib.figure.Figure at 0xe830f28>"
      ]
     },
     "metadata": {},
     "output_type": "display_data"
    }
   ],
   "source": [
    "plt.plot(YA_pred)"
   ]
  },
  {
   "cell_type": "code",
   "execution_count": 21,
   "metadata": {
    "collapsed": false
   },
   "outputs": [
    {
     "data": {
      "text/plain": [
       "[<matplotlib.lines.Line2D at 0xe7b6898>]"
      ]
     },
     "execution_count": 21,
     "metadata": {},
     "output_type": "execute_result"
    },
    {
     "data": {
      "image/png": "[encoded data removed]",
      "text/plain": [
       "<matplotlib.figure.Figure at 0xe0c7a90>"
      ]
     },
     "metadata": {},
     "output_type": "display_data"
    }
   ],
   "source": [
    "plt.plot(YA_test)"
   ]
  },
  {
   "cell_type": "code",
   "execution_count": 24,
   "metadata": {
    "collapsed": false
   },
   "outputs": [
    {
     "data": {
      "text/plain": [
       "0.003939775331289419"
      ]
     },
     "execution_count": 24,
     "metadata": {},
     "output_type": "execute_result"
    }
   ],
   "source": [
    "r2_score(YA_test, YA_pred)"
   ]
  },
  {
   "cell_type": "code",
   "execution_count": 31,
   "metadata": {
    "collapsed": false
   },
   "outputs": [],
   "source": [
    "# Lets do grid search on C and gamma\n",
    "est = gs.GridSearchCV(SVR(kernel='rbf',verbose=True),                                              \n",
    "                      {'C': np.logspace(-3., 3., 10),\n",
    "                       'gamma': np.logspace(-3., 3., 10)})"
   ]
  },
  {
   "cell_type": "code",
   "execution_count": 32,
   "metadata": {
    "collapsed": false
   },
   "outputs": [
    {
     "name": "stdout",
     "output_type": "stream",
     "text": [
      "[LibSVM][LibSVM][LibSVM][LibSVM][LibSVM][LibSVM][LibSVM][LibSVM][LibSVM][LibSVM][LibSVM][LibSVM][LibSVM][LibSVM][LibSVM][LibSVM][LibSVM][LibSVM][LibSVM][LibSVM][LibSVM][LibSVM][LibSVM][LibSVM][LibSVM][LibSVM][LibSVM][LibSVM][LibSVM][LibSVM][LibSVM][LibSVM][LibSVM][LibSVM][LibSVM][LibSVM][LibSVM][LibSVM][LibSVM][LibSVM][LibSVM][LibSVM][LibSVM][LibSVM][LibSVM][LibSVM][LibSVM][LibSVM][LibSVM][LibSVM][LibSVM][LibSVM][LibSVM][LibSVM][LibSVM][LibSVM][LibSVM][LibSVM][LibSVM][LibSVM][LibSVM][LibSVM][LibSVM][LibSVM][LibSVM][LibSVM][LibSVM][LibSVM][LibSVM][LibSVM][LibSVM][LibSVM][LibSVM][LibSVM][LibSVM][LibSVM][LibSVM][LibSVM][LibSVM][LibSVM][LibSVM][LibSVM][LibSVM][LibSVM][LibSVM][LibSVM][LibSVM][LibSVM][LibSVM][LibSVM][LibSVM][LibSVM][LibSVM][LibSVM][LibSVM][LibSVM][LibSVM][LibSVM][LibSVM][LibSVM][LibSVM][LibSVM][LibSVM][LibSVM][LibSVM][LibSVM][LibSVM][LibSVM][LibSVM][LibSVM][LibSVM][LibSVM][LibSVM][LibSVM][LibSVM][LibSVM][LibSVM][LibSVM][LibSVM][LibSVM][LibSVM][LibSVM][LibSVM][LibSVM][LibSVM][LibSVM][LibSVM][LibSVM][LibSVM][LibSVM][LibSVM][LibSVM][LibSVM][LibSVM][LibSVM][LibSVM][LibSVM][LibSVM][LibSVM][LibSVM][LibSVM][LibSVM][LibSVM][LibSVM][LibSVM][LibSVM][LibSVM][LibSVM][LibSVM][LibSVM][LibSVM][LibSVM][LibSVM][LibSVM][LibSVM][LibSVM][LibSVM][LibSVM][LibSVM][LibSVM][LibSVM][LibSVM][LibSVM][LibSVM][LibSVM][LibSVM][LibSVM][LibSVM][LibSVM][LibSVM][LibSVM][LibSVM][LibSVM][LibSVM][LibSVM][LibSVM][LibSVM][LibSVM][LibSVM][LibSVM][LibSVM][LibSVM][LibSVM][LibSVM][LibSVM][LibSVM][LibSVM][LibSVM][LibSVM][LibSVM][LibSVM][LibSVM][LibSVM][LibSVM][LibSVM][LibSVM][LibSVM][LibSVM][LibSVM][LibSVM][LibSVM][LibSVM][LibSVM][LibSVM][LibSVM][LibSVM][LibSVM][LibSVM][LibSVM][LibSVM][LibSVM][LibSVM][LibSVM][LibSVM][LibSVM][LibSVM][LibSVM][LibSVM][LibSVM][LibSVM][LibSVM][LibSVM][LibSVM][LibSVM][LibSVM][LibSVM][LibSVM][LibSVM][LibSVM][LibSVM][LibSVM][LibSVM][LibSVM][LibSVM][LibSVM][LibSVM][LibSVM][LibSVM][LibSVM][LibSVM][LibSVM][LibSVM][LibSVM][LibSVM][LibSVM][LibSVM][LibSVM][LibSVM][LibSVM][LibSVM][LibSVM][LibSVM][LibSVM][LibSVM][LibSVM][LibSVM][LibSVM][LibSVM][LibSVM][LibSVM][LibSVM][LibSVM][LibSVM][LibSVM][LibSVM][LibSVM][LibSVM][LibSVM][LibSVM][LibSVM][LibSVM][LibSVM][LibSVM][LibSVM][LibSVM][LibSVM][LibSVM][LibSVM][LibSVM][LibSVM][LibSVM][LibSVM][LibSVM][LibSVM][LibSVM][LibSVM][LibSVM][LibSVM][LibSVM][LibSVM][LibSVM][LibSVM][LibSVM][LibSVM][LibSVM][LibSVM][LibSVM][LibSVM][LibSVM][LibSVM][LibSVM]"
     ]
    }
   ],
   "source": [
    "YA_pred = est.fit(X_train, YA_train).predict(X_test)"
   ]
  },
  {
   "cell_type": "code",
   "execution_count": 33,
   "metadata": {
    "collapsed": false
   },
   "outputs": [
    {
     "name": "stdout",
     "output_type": "stream",
     "text": [
      "0.0301411858017\n",
      "0.0138886014744\n"
     ]
    }
   ],
   "source": [
    "from sklearn.metrics import mean_squared_error, r2_score\n",
    "print(mean_squared_error(YA_test, YA_pred))\n",
    "print(r2_score(YA_test, YA_pred))"
   ]
  },
  {
   "cell_type": "code",
   "execution_count": 34,
   "metadata": {
    "collapsed": false
   },
   "outputs": [
    {
     "name": "stdout",
     "output_type": "stream",
     "text": [
      "('GPR MSE:', 0.41697803167329828)\n",
      "('GPR R2:', -12.642024327553845)\n"
     ]
    }
   ],
   "source": [
    "# GPR\n",
    "from sklearn.gaussian_process import GaussianProcessRegressor\n",
    "from sklearn.gaussian_process.kernels import RBF, ConstantKernel as CK\n",
    "\n",
    "# Instantiate a Gaussian Process model\n",
    "kernel = CK(1.0, (1e-3, 1e3)) * RBF(10, (1e-2, 1e2)) # Kernels\n",
    "gp = GaussianProcessRegressor(kernel=kernel, n_restarts_optimizer=9)\n",
    "\n",
    "# Fit to data using Maximum Likelihood Estimation of the parameters\n",
    "gp.fit(X_train, YA_train)                                                                \n",
    "\n",
    "# Make the prediction on the meshed x-axis\n",
    "YA_pred_GP, sigma = gp.predict(X_test, return_std=True)\n",
    "\n",
    "from sklearn.metrics import mean_squared_error, r2_score\n",
    "print('GPR MSE:',mean_squared_error(YA_test, YA_pred_GP))\n",
    "print('GPR R2:',r2_score(YA_test, YA_pred_GP))"
   ]
  },
  {
   "cell_type": "code",
   "execution_count": 35,
   "metadata": {
    "collapsed": false
   },
   "outputs": [
    {
     "data": {
      "text/plain": [
       "[<matplotlib.lines.Line2D at 0x11c91160>]"
      ]
     },
     "execution_count": 35,
     "metadata": {},
     "output_type": "execute_result"
    },
    {
     "data": {
      "image/png": "[encoded data removed]",
      "text/plain": [
       "<matplotlib.figure.Figure at 0x11c1b5c0>"
      ]
     },
     "metadata": {},
     "output_type": "display_data"
    }
   ],
   "source": [
    "plt.plot(YA_pred)"
   ]
  },
  {
   "cell_type": "code",
   "execution_count": 36,
   "metadata": {
    "collapsed": false
   },
   "outputs": [
    {
     "data": {
      "text/plain": [
       "[<matplotlib.lines.Line2D at 0x125b8e48>]"
      ]
     },
     "execution_count": 36,
     "metadata": {},
     "output_type": "execute_result"
    },
    {
     "data": {
      "image/png": "[encoded data removed]",
      "text/plain": [
       "<matplotlib.figure.Figure at 0x11cbc278>"
      ]
     },
     "metadata": {},
     "output_type": "display_data"
    }
   ],
   "source": [
    "plt.plot(YA_pred_GP)"
   ]
  },
  {
   "cell_type": "code",
   "execution_count": 37,
   "metadata": {
    "collapsed": false
   },
   "outputs": [
    {
     "data": {
      "text/plain": [
       "[<matplotlib.lines.Line2D at 0x13a5c898>]"
      ]
     },
     "execution_count": 37,
     "metadata": {},
     "output_type": "execute_result"
    },
    {
     "data": {
      "image/png": "[encoded data removed]",
      "text/plain": [
       "<matplotlib.figure.Figure at 0x125d14e0>"
      ]
     },
     "metadata": {},
     "output_type": "display_data"
    }
   ],
   "source": [
    "plt.plot(YA_test)"
   ]
  },
  {
   "cell_type": "code",
   "execution_count": null,
   "metadata": {
    "collapsed": true
   },
   "outputs": [],
   "source": []
  }
 ],
 "metadata": {
  "kernelspec": {
   "display_name": "Python 2",
   "language": "python",
   "name": "python2"
  },
  "language_info": {
   "codemirror_mode": {
    "name": "ipython",
    "version": 2
   },
   "file_extension": ".py",
   "mimetype": "text/x-python",
   "name": "python",
   "nbconvert_exporter": "python",
   "pygments_lexer": "ipython2",
   "version": "2.7.13"
  }
 },
 "nbformat": 4,
 "nbformat_minor": 2
}
